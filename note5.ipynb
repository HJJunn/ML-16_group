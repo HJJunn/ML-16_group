{
  "nbformat": 4,
  "nbformat_minor": 0,
  "metadata": {
    "colab": {
      "private_outputs": true,
      "provenance": [],
      "authorship_tag": "ABX9TyOfvaU7akt7Iaknzld3opQ1",
      "include_colab_link": true
    },
    "kernelspec": {
      "name": "python3",
      "display_name": "Python 3"
    },
    "language_info": {
      "name": "python"
    }
  },
  "cells": [
    {
      "cell_type": "markdown",
      "metadata": {
        "id": "view-in-github",
        "colab_type": "text"
      },
      "source": [
        "<a href=\"https://colab.research.google.com/github/HJJunn/ML-16_group/blob/main/note5.ipynb\" target=\"_parent\"><img src=\"https://colab.research.google.com/assets/colab-badge.svg\" alt=\"Open In Colab\"/></a>"
      ]
    },
    {
      "cell_type": "code",
      "source": [
        "#예제 6.10-07\n",
        "from sklearn.datasets import make_moons\n",
        "from sklearn.tree import DecisionTreeClassifier\n",
        "from sklearn.model_selection import train_test_split\n",
        "\n",
        "X,y = make_moons(n_samples = 1000, noise = 0.4, random_state = 42) # make_moons datasets 생성\n",
        "X_train, X_test, y_train, y_test= train_test_split(X, y, test_size = 0.2, random_state = 42) #train_test_split() 훈련 세트, 트레이닝 세트 구분\n"
      ],
      "metadata": {
        "id": "t8baIn09O6qa"
      },
      "execution_count": null,
      "outputs": []
    },
    {
      "cell_type": "markdown",
      "source": [
        "min_samples_split, min_samples_leaf"
      ],
      "metadata": {
        "id": "XRkw6Ij1gnLs"
      }
    },
    {
      "cell_type": "code",
      "source": [
        "from sklearn.model_selection import GridSearchCV #use GridSearchCV - 그리드 탐색을 이용해 모델 튜닝\n",
        "\n",
        "params = {'max_leaf_nodes': list(range(2, 200, 2)), 'min_samples_split': [5,10,15,20], 'min_samples_leaf': [2,3,4]}\n",
        "#max_leaf_nodes : 리프노드의 최대 개수 - 최소 개수인 2부터 200까지 리프노드 수가 짝수가 되도록 설정\n",
        "#min_samples_split : 분할되기 위해 노드가 가져야 할 최소 샘플 수(작게 설정할수록 과적합 가능성 높아짐) - 간단한게 5 단위로 설정\n",
        "#min_samples_split : 리프노드가 되기 위해 필요한 최소한의 샘플 수(작게 설정 필요) - 5보다 작은 2,3,4 로 설정\n",
        "grid_search_cv = GridSearchCV(DecisionTreeClassifier(random_state=42), params, verbose=1, cv=3)\n",
        "\n",
        "grid_search_cv.fit(X_train, y_train)"
      ],
      "metadata": {
        "id": "X1TjUUWHR75j"
      },
      "execution_count": null,
      "outputs": []
    },
    {
      "cell_type": "code",
      "source": [
        "grid_search_cv.best_estimator_"
      ],
      "metadata": {
        "id": "ObXgRfFjZLz7"
      },
      "execution_count": null,
      "outputs": []
    },
    {
      "cell_type": "code",
      "source": [
        "from sklearn.metrics import accuracy_score\n",
        "\n",
        "y_pred = grid_search_cv.predict(X_test)\n",
        "accuracy_score(y_test, y_pred)"
      ],
      "metadata": {
        "id": "39mMUWTdZRAw"
      },
      "execution_count": null,
      "outputs": []
    },
    {
      "cell_type": "markdown",
      "source": [
        "max_depth 파라미터 사용"
      ],
      "metadata": {
        "id": "UyWa2t8afySu"
      }
    },
    {
      "cell_type": "code",
      "source": [
        "from sklearn.model_selection import GridSearchCV #use GridSearchCV - 그리드 탐색을 이용해 모델 튜닝\n",
        "\n",
        "params = {'max_leaf_nodes': list(range(2,50)),'max_depth' : [3,4,5,6]}\n",
        "#max_depth : 트리의 최대깊이(너무 깊어지면 과적합 발생)\n",
        "\n",
        "grid_search_cv = GridSearchCV(DecisionTreeClassifier(random_state=42), params, verbose=1, cv=3)\n",
        "\n",
        "grid_search_cv.fit(X_train, y_train)"
      ],
      "metadata": {
        "id": "h1f1HUN5ZS4s"
      },
      "execution_count": null,
      "outputs": []
    },
    {
      "cell_type": "code",
      "source": [
        "grid_search_cv.best_estimator_"
      ],
      "metadata": {
        "id": "dnuZOamDfn4R"
      },
      "execution_count": null,
      "outputs": []
    },
    {
      "cell_type": "code",
      "source": [
        "from sklearn.metrics import accuracy_score\n",
        "\n",
        "y_pred = grid_search_cv.predict(X_test)\n",
        "accuracy_score(y_test, y_pred)"
      ],
      "metadata": {
        "id": "j_rNwsWGfrPY"
      },
      "execution_count": null,
      "outputs": []
    },
    {
      "cell_type": "markdown",
      "source": [
        "다른 max_leaf_nodes 값"
      ],
      "metadata": {
        "id": "yXa_hm5OgM_b"
      }
    },
    {
      "cell_type": "code",
      "source": [
        "from sklearn.model_selection import GridSearchCV #use GridSearchCV - 그리드 탐색을 이용해 모델 튜닝\n",
        "\n",
        "params={'max_leaf_nodes':[3,5,7,9,10]} #하이퍼 파라미터로 최대 리프노드 개수 적용\n",
        "\n",
        "grid_search_cv = GridSearchCV(DecisionTreeClassifier(random_state=42), params, verbose=1, cv=3)\n",
        "\n",
        "grid_search_cv.fit(X_train, y_train)"
      ],
      "metadata": {
        "id": "pl4_e61JgTQU"
      },
      "execution_count": null,
      "outputs": []
    },
    {
      "cell_type": "code",
      "source": [
        "grid_search_cv.best_estimator_"
      ],
      "metadata": {
        "id": "Cll-M1WTgfbF"
      },
      "execution_count": null,
      "outputs": []
    },
    {
      "cell_type": "code",
      "source": [
        "from sklearn.metrics import accuracy_score\n",
        "\n",
        "y_pred = grid_search_cv.predict(X_test)\n",
        "accuracy_score(y_test, y_pred)"
      ],
      "metadata": {
        "id": "t_J6G-XNghbn"
      },
      "execution_count": null,
      "outputs": []
    },
    {
      "cell_type": "code",
      "source": [],
      "metadata": {
        "id": "tcOKuY79gkTo"
      },
      "execution_count": null,
      "outputs": []
    }
  ]
}